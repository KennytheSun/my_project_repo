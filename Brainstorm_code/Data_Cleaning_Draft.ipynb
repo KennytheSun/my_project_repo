{
 "cells": [
  {
   "cell_type": "code",
   "execution_count": 1,
   "metadata": {},
   "outputs": [
    {
     "name": "stdout",
     "output_type": "stream",
     "text": [
      "Index(['Name', 'Platform', 'Year_of_Release', 'Genre', 'Publisher', 'NA_Sales',\n",
      "       'EU_Sales', 'JP_Sales', 'Other_Sales', 'Global_Sales', 'Critic_Score',\n",
      "       'Critic_Count', 'User_Score', 'User_Count', 'Developer', 'Rating'],\n",
      "      dtype='object')\n",
      "   Year_of_Release  Number_of_Shooters_Released\n",
      "0           1980.0                            2\n",
      "1           1981.0                           10\n",
      "2           1982.0                            5\n",
      "3           1983.0                            1\n",
      "4           1984.0                            3\n"
     ]
    }
   ],
   "source": [
    "import pandas as pd\n",
    "import csv\n",
    "import os\n",
    "import matplotlib.pyplot as plt\n",
    "\n",
    "\n",
    "#Question: Is it possible to see any correlation between shooter video games and gun violence in the U.S. by looking at videogame sales and gun violence?\n",
    "#\n",
    "\n",
    "\n",
    "#csv_path = os.path.join(\"..\",\"Resources\",\"Video_Games_Sales_as_at_22_Dec_2016.csv\")\n",
    "csv_path = \"..\\Resources\\Video_Games_Sales_as_at_22_Dec_2016.csv\"\n",
    "gun_violence_csv = \"..\\Resources\\gun-violence-data_01-2013_03-2018.csv\"\n",
    "\n",
    "\n",
    "vg2016_df = pd.read_csv(csv_path)\n",
    "gun2013_2018 = pd.read_csv(gun_violence_csv)\n",
    "\n",
    "print(vg2016_df.columns)\n",
    "# group_genre = vg2016_df\n",
    "# group_genre\n",
    "\n",
    "cleaned_df = vg2016_df[[\"Name\",\"Genre\", \"NA_Sales\",\"Year_of_Release\",\"Rating\",\"User_Count\"]]\n",
    "\n",
    "type(cleaned_df)\n",
    "cleaned_df = cleaned_df.sort_values(by= \"Year_of_Release\",ascending=False)\n",
    "\n",
    "cleaned_df = cleaned_df.loc[cleaned_df['Genre'] == \"Shooter\"]\n",
    "#cleaned_df.value_counts\n",
    "#count used to determine how many \"shooter\" games released per year\n",
    "grouped_year_df = cleaned_df.groupby(\"Year_of_Release\")\n",
    "max_year = grouped_year_df.count()\n",
    "#print(max_year)\n",
    "shooters_per_year = max_year[\"Name\"]\n",
    "shooters_per_year= pd.DataFrame(shooters_per_year).reset_index()\n",
    "shooters_per_year =shooters_per_year.rename(columns = {\"Name\":\"Number_of_Shooters_Released\"})\n",
    "print(shooters_per_year.head())"
   ]
  },
  {
   "cell_type": "code",
   "execution_count": 2,
   "metadata": {},
   "outputs": [
    {
     "data": {
      "text/plain": [
       "<matplotlib.collections.PathCollection at 0x158214ee2e8>"
      ]
     },
     "execution_count": 2,
     "metadata": {},
     "output_type": "execute_result"
    },
    {
     "data": {
      "image/png": "[encoded data removed]",
      "text/plain": [
       "<Figure size 432x288 with 1 Axes>"
      ]
     },
     "metadata": {
      "needs_background": "light"
     },
     "output_type": "display_data"
    }
   ],
   "source": [
    "games_year_x = shooters_per_year[\"Year_of_Release\"]\n",
    "games_year_y = shooters_per_year[\"Number_of_Shooters_Released\"]\n",
    "\n",
    "plt.xlabel(\"Year\")\n",
    "plt.ylabel(\"# of Shooting Games Released\")\n",
    "plt.title( \"# of Shooting Games Released Per Year\")\n",
    "plt.scatter(games_year_x,games_year_y"
   ]
  },
  {
   "cell_type": "code",
   "execution_count": 3,
   "metadata": {
    "scrolled": true
   },
   "outputs": [
    {
     "name": "stdout",
     "output_type": "stream",
     "text": [
      "Index(['incident_id', 'date', 'state', 'city_or_county', 'address', 'n_killed',\n",
      "       'n_injured', 'incident_url', 'source_url',\n",
      "       'incident_url_fields_missing', 'congressional_district', 'gun_stolen',\n",
      "       'gun_type', 'incident_characteristics', 'latitude',\n",
      "       'location_description', 'longitude', 'n_guns_involved', 'notes',\n",
      "       'participant_age', 'participant_age_group', 'participant_gender',\n",
      "       'participant_name', 'participant_relationship', 'participant_status',\n",
      "       'participant_type', 'sources', 'state_house_district',\n",
      "       'state_senate_district'],\n",
      "      dtype='object')\n",
      "          date           state city_or_county                      gun_type  \\\n",
      "2   2013-01-01            Ohio         Lorain        0::Unknown||1::Unknown   \n",
      "4   2013-01-07  North Carolina     Greensboro        0::Handgun||1::Handgun   \n",
      "6   2013-01-19      New Mexico    Albuquerque  0::22 LR||1::223 Rem [AR-15]   \n",
      "10  2013-01-23       Tennessee    Chattanooga                    0::Unknown   \n",
      "11  2013-01-25        Missouri    Saint Louis                    0::Unknown   \n",
      "\n",
      "    latitude  longitude                        participant_age  \n",
      "2    41.4455   -82.1377      0::25||1::31||2::33||3::34||4::33  \n",
      "4    36.1140   -79.9569             0::18||1::46||2::14||3::47  \n",
      "6    34.9791  -106.7160  0::51||1::40||2::9||3::5||4::2||5::15  \n",
      "10   35.0221   -85.2697                                  0::19  \n",
      "11   38.7067   -90.2494                                  0::28  \n"
     ]
    }
   ],
   "source": [
    "#clean gun violence data from 2013-2018 dataset\n",
    "\n",
    "#gun2013_2018.head()\n",
    "print(gun2013_2018.columns)\n",
    "\n",
    "gun2013_2018_clean = gun2013_2018[['date','state','city_or_county','gun_type','latitude','longitude','participant_age']]\n",
    "gun2013_2018_clean = gun2013_2018_clean.dropna()\n",
    "\n",
    "print(gun2013_2018_clean.head())\n",
    "\n",
    "#gun2013_2018_clean = (gun2013_2018_clean.groupby([\"date\"])).count()\n",
    "\n",
    "#gun2013_2018_clean.value_count()\n",
    "#need to change date to just the year\n"
   ]
  },
  {
   "cell_type": "code",
   "execution_count": 4,
   "metadata": {},
   "outputs": [
    {
     "data": {
      "text/html": [
       "<div>\n",
       "<style scoped>\n",
       "    .dataframe tbody tr th:only-of-type {\n",
       "        vertical-align: middle;\n",
       "    }\n",
       "\n",
       "    .dataframe tbody tr th {\n",
       "        vertical-align: top;\n",
       "    }\n",
       "\n",
       "    .dataframe thead th {\n",
       "        text-align: right;\n",
       "    }\n",
       "</style>\n",
       "<table border=\"1\" class=\"dataframe\">\n",
       "  <thead>\n",
       "    <tr style=\"text-align: right;\">\n",
       "      <th></th>\n",
       "      <th>Year</th>\n",
       "      <th># of crimes</th>\n",
       "    </tr>\n",
       "  </thead>\n",
       "  <tbody>\n",
       "    <tr>\n",
       "      <th>5</th>\n",
       "      <td>2013</td>\n",
       "      <td>93</td>\n",
       "    </tr>\n",
       "    <tr>\n",
       "      <th>4</th>\n",
       "      <td>2014</td>\n",
       "      <td>3879</td>\n",
       "    </tr>\n",
       "    <tr>\n",
       "      <th>2</th>\n",
       "      <td>2015</td>\n",
       "      <td>13716</td>\n",
       "    </tr>\n",
       "    <tr>\n",
       "      <th>1</th>\n",
       "      <td>2016</td>\n",
       "      <td>22606</td>\n",
       "    </tr>\n",
       "    <tr>\n",
       "      <th>0</th>\n",
       "      <td>2017</td>\n",
       "      <td>37331</td>\n",
       "    </tr>\n",
       "    <tr>\n",
       "      <th>3</th>\n",
       "      <td>2018</td>\n",
       "      <td>7553</td>\n",
       "    </tr>\n",
       "  </tbody>\n",
       "</table>\n",
       "</div>"
      ],
      "text/plain": [
       "   Year  # of crimes\n",
       "5  2013           93\n",
       "4  2014         3879\n",
       "2  2015        13716\n",
       "1  2016        22606\n",
       "0  2017        37331\n",
       "3  2018         7553"
      ]
     },
     "execution_count": 4,
     "metadata": {},
     "output_type": "execute_result"
    }
   ],
   "source": [
    "\n",
    "#Change date to diplay just the year\n",
    "\n",
    "gun2013_2018_clean.loc[gun2013_2018_clean['date'].str.contains('2013'), 'date'] = '2013'\n",
    "gun2013_2018_clean.loc[gun2013_2018_clean['date'].str.contains('2014'), 'date'] = '2014'\n",
    "gun2013_2018_clean.loc[gun2013_2018_clean['date'].str.contains('2015'), 'date'] = '2015'\n",
    "gun2013_2018_clean.loc[gun2013_2018_clean['date'].str.contains('2016'), 'date'] = '2016'\n",
    "gun2013_2018_clean.loc[gun2013_2018_clean['date'].str.contains('2017'), 'date'] = '2017'\n",
    "gun2013_2018_clean.loc[gun2013_2018_clean['date'].str.contains('2018'), 'date'] = '2018'\n",
    "#determine how many violent crimes occured per year\n",
    "crime_year = gun2013_2018_clean[\"date\"].value_counts()\n",
    "\n",
    "crime_year_df = pd.DataFrame(crime_year)\n",
    "crime_year_df = crime_year_df.reset_index()\n",
    "crime_year_df = crime_year_df.rename(columns={\"index\":\"Year\",\"date\":\"# of crimes\"})\n",
    "#sort year by ascending order\n",
    "crime_year_df = crime_year_df.sort_values(by=[\"Year\"], ascending = True)\n",
    "crime_year_df"
   ]
  },
  {
   "cell_type": "code",
   "execution_count": 5,
   "metadata": {},
   "outputs": [
    {
     "name": "stdout",
     "output_type": "stream",
     "text": [
      "This data is from January 2013 to March 2018. From a quick glance, it's apparant that gun violence is increasing per year, 2018 is only documented for the first quarter (until March) so 2018 data set is not complete.\n"
     ]
    },
    {
     "data": {
      "image/png": "[encoded data removed]",
      "text/plain": [
       "<Figure size 432x288 with 1 Axes>"
      ]
     },
     "metadata": {
      "needs_background": "light"
     },
     "output_type": "display_data"
    }
   ],
   "source": [
    "#show bar graph of violent crime change over time\n",
    "\n",
    "plt.bar(crime_year_df[\"Year\"],crime_year_df[\"# of crimes\"])\n",
    "\n",
    "print(\"This data is from January 2013 to March 2018. From a quick glance, it's apparant that gun violence is increasing per year, 2018 is only documented for the first quarter (until March) so 2018 data set is not complete.\")"
   ]
  },
  {
   "cell_type": "code",
   "execution_count": null,
   "metadata": {},
   "outputs": [],
   "source": []
  }
 ],
 "metadata": {
  "kernelspec": {
   "display_name": "Python 3",
   "language": "python",
   "name": "python3"
  },
  "language_info": {
   "codemirror_mode": {
    "name": "ipython",
    "version": 3
   },
   "file_extension": ".py",
   "mimetype": "text/x-python",
   "name": "python",
   "nbconvert_exporter": "python",
   "pygments_lexer": "ipython3",
   "version": "3.7.3"
  }
 },
 "nbformat": 4,
 "nbformat_minor": 2
}
